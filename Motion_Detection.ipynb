{
 "cells": [
  {
   "cell_type": "code",
   "execution_count": null,
   "metadata": {},
   "outputs": [],
   "source": [
    "import cv2\n",
    "import winsound            #pip install winaudio"
   ]
  },
  {
   "cell_type": "code",
   "execution_count": null,
   "metadata": {},
   "outputs": [],
   "source": [
    "cam = cv2.VideoCapture(0)"
   ]
  },
  {
   "cell_type": "code",
   "execution_count": null,
   "metadata": {},
   "outputs": [],
   "source": [
    "while True: \n",
    "    ret,frame1 = cam.read()\n",
    "    ret,frame2 = cam.read()\n",
    "    diff = cv2.absdiff(frame1,frame2)  # absolute difference\n",
    "    gray = cv2.cvtColor(diff,cv2.COLOR_BGR2GRAY)  # coverting our image to gray\n",
    "    blur = cv2.GaussianBlur(gray,(5,5),0)   # blur version of gray - kernel size\n",
    "    _,thresh = cv2.threshold(blur,20,255,cv2.THRESH_BINARY)  # removing unwanted things \n",
    "    # cv2.THRESH_BINARY = if pixel intensity is greater than the set threshold, value set to 255, else set to 0 (black) \n",
    "    dilated = cv2.dilate(thresh,None,iterations = 3)   # dilation (reverse of threshold)\n",
    "    contours,_ = cv2.findContours(dilated, cv2.RETR_TREE, cv2.CHAIN_APPROX_SIMPLE)   \n",
    "     # cv2.drawContours(frame1,contours,-1,(0,255,0),2)   #(_,_,-1(everything),colour,thickness)\n",
    "    for c in contours:\n",
    "        if cv2.contourArea(c) < 5000:\n",
    "            continue\n",
    "        x,y,w,h = cv2.boundingRect(c)\n",
    "        cv2.rectangle(frame1,(x,y),(x+w,y+h),(0,255,0),2)\n",
    "        winsound.Beep(5000,200) #(fequency,time(ms))\n",
    "        # winsound.Playsound(\"file_name\",winsound.SND_ASYNC)\n",
    "    key = cv2.waitKey(1) & 0xFF\n",
    "    if key==ord(\"q\"):\n",
    "        break\n",
    "    cv2.imshow(\"Security Cam\",frame1)    \n",
    "cam.release()        \n",
    "cv2.destroyAllWindows   "
   ]
  },
  {
   "cell_type": "code",
   "execution_count": null,
   "metadata": {},
   "outputs": [],
   "source": [
    "def add(a,b):\n",
    "    if i <= 10:\n",
    "        print(\"The number is less than 10\")\n",
    "        if i<5:\n",
    "            print(\"The number is less than 5\")\n",
    "\n",
    "var_1 = input(\"Enter a number: \")\n",
    "var_2 = "
   ]
  },
  {
   "cell_type": "code",
   "execution_count": null,
   "metadata": {},
   "outputs": [],
   "source": [
    "# Contours are defined as the line joining all the points along the \n",
    "# boundary of an image that are having the same intensity -- boundaries of the things that are detected (moving)"
   ]
  }
 ],
 "metadata": {
  "kernelspec": {
   "display_name": "Python 3",
   "language": "python",
   "name": "python3"
  },
  "language_info": {
   "codemirror_mode": {
    "name": "ipython",
    "version": 3
   },
   "file_extension": ".py",
   "mimetype": "text/x-python",
   "name": "python",
   "nbconvert_exporter": "python",
   "pygments_lexer": "ipython3",
   "version": "3.8.5"
  },
  "toc": {
   "base_numbering": 1,
   "nav_menu": {},
   "number_sections": true,
   "sideBar": true,
   "skip_h1_title": false,
   "title_cell": "Table of Contents",
   "title_sidebar": "Contents",
   "toc_cell": false,
   "toc_position": {},
   "toc_section_display": true,
   "toc_window_display": false
  },
  "varInspector": {
   "cols": {
    "lenName": 16,
    "lenType": 16,
    "lenVar": 40
   },
   "kernels_config": {
    "python": {
     "delete_cmd_postfix": "",
     "delete_cmd_prefix": "del ",
     "library": "var_list.py",
     "varRefreshCmd": "print(var_dic_list())"
    },
    "r": {
     "delete_cmd_postfix": ") ",
     "delete_cmd_prefix": "rm(",
     "library": "var_list.r",
     "varRefreshCmd": "cat(var_dic_list()) "
    }
   },
   "types_to_exclude": [
    "module",
    "function",
    "builtin_function_or_method",
    "instance",
    "_Feature"
   ],
   "window_display": false
  }
 },
 "nbformat": 4,
 "nbformat_minor": 5
}
